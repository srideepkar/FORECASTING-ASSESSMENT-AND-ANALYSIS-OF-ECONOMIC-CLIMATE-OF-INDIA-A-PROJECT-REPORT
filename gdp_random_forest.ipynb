{
  "nbformat": 4,
  "nbformat_minor": 0,
  "metadata": {
    "colab": {
      "name": "gdp_random_forest.ipynb",
      "provenance": [],
      "collapsed_sections": [],
      "toc_visible": true
    },
    "kernelspec": {
      "name": "python3",
      "display_name": "Python 3"
    }
  },
  "cells": [
    {
      "cell_type": "code",
      "metadata": {
        "id": "Gz8RUrKuAEop",
        "colab_type": "code",
        "colab": {}
      },
      "source": [
        "import numpy as np\n",
        "import pandas as pd\n",
        "import numpy as np\n",
        "import pandas as pd\n",
        "import matplotlib\n",
        "import matplotlib.pyplot as plt\n",
        "import scipy\n",
        "from sklearn.model_selection import train_test_split\n",
        "from sklearn.linear_model import LinearRegression\n",
        "import datetime, pytz\n",
        "from sklearn.ensemble import RandomForestRegressor"
      ],
      "execution_count": 0,
      "outputs": []
    },
    {
      "cell_type": "code",
      "metadata": {
        "id": "S36YgWKHAtoZ",
        "colab_type": "code",
        "outputId": "8b69e679-2ee9-4b90-e054-0381f47d32c3",
        "colab": {
          "base_uri": "https://localhost:8080/",
          "height": 34
        }
      },
      "source": [
        "from google.colab import drive\n",
        "drive.mount('/content/gdrive')"
      ],
      "execution_count": 2,
      "outputs": [
        {
          "output_type": "stream",
          "text": [
            "Drive already mounted at /content/gdrive; to attempt to forcibly remount, call drive.mount(\"/content/gdrive\", force_remount=True).\n"
          ],
          "name": "stdout"
        }
      ]
    },
    {
      "cell_type": "code",
      "metadata": {
        "id": "A6onp0u_AZRR",
        "colab_type": "code",
        "colab": {}
      },
      "source": [
        "gdp=pd.read_csv('/content/gdrive/My Drive/GDP  - GDP .csv')"
      ],
      "execution_count": 0,
      "outputs": []
    },
    {
      "cell_type": "code",
      "metadata": {
        "id": "xnmur1LaV5Pg",
        "colab_type": "code",
        "outputId": "cbf7d636-f417-4026-d6d0-3209f8cb9dd8",
        "colab": {
          "base_uri": "https://localhost:8080/",
          "height": 388
        }
      },
      "source": [
        "gdp"
      ],
      "execution_count": 4,
      "outputs": [
        {
          "output_type": "execute_result",
          "data": {
            "text/html": [
              "<div>\n",
              "<style scoped>\n",
              "    .dataframe tbody tr th:only-of-type {\n",
              "        vertical-align: middle;\n",
              "    }\n",
              "\n",
              "    .dataframe tbody tr th {\n",
              "        vertical-align: top;\n",
              "    }\n",
              "\n",
              "    .dataframe thead th {\n",
              "        text-align: right;\n",
              "    }\n",
              "</style>\n",
              "<table border=\"1\" class=\"dataframe\">\n",
              "  <thead>\n",
              "    <tr style=\"text-align: right;\">\n",
              "      <th></th>\n",
              "      <th>Year</th>\n",
              "      <th>Population</th>\n",
              "      <th>Literacy rate</th>\n",
              "      <th>export</th>\n",
              "      <th>imports</th>\n",
              "      <th>GDP</th>\n",
              "    </tr>\n",
              "  </thead>\n",
              "  <tbody>\n",
              "    <tr>\n",
              "      <th>0</th>\n",
              "      <td>1897</td>\n",
              "      <td>1.000035</td>\n",
              "      <td>24.063592</td>\n",
              "      <td>1.313500e+09</td>\n",
              "      <td>2.249400e+09</td>\n",
              "      <td>3.722743</td>\n",
              "    </tr>\n",
              "    <tr>\n",
              "      <th>1</th>\n",
              "      <td>1898</td>\n",
              "      <td>1.000835</td>\n",
              "      <td>24.263592</td>\n",
              "      <td>1.382400e+09</td>\n",
              "      <td>2.213300e+09</td>\n",
              "      <td>2.931128</td>\n",
              "    </tr>\n",
              "    <tr>\n",
              "      <th>2</th>\n",
              "      <td>1899</td>\n",
              "      <td>1.005835</td>\n",
              "      <td>24.463592</td>\n",
              "      <td>1.389400e+09</td>\n",
              "      <td>2.311200e+09</td>\n",
              "      <td>5.994353</td>\n",
              "    </tr>\n",
              "    <tr>\n",
              "      <th>3</th>\n",
              "      <td>1900</td>\n",
              "      <td>1.004835</td>\n",
              "      <td>24.663592</td>\n",
              "      <td>1.576300e+09</td>\n",
              "      <td>2.438800e+09</td>\n",
              "      <td>7.452950</td>\n",
              "    </tr>\n",
              "    <tr>\n",
              "      <th>4</th>\n",
              "      <td>1901</td>\n",
              "      <td>1.006835</td>\n",
              "      <td>24.963592</td>\n",
              "      <td>1.691700e+09</td>\n",
              "      <td>2.661100e+09</td>\n",
              "      <td>-2.635770</td>\n",
              "    </tr>\n",
              "    <tr>\n",
              "      <th>...</th>\n",
              "      <td>...</td>\n",
              "      <td>...</td>\n",
              "      <td>...</td>\n",
              "      <td>...</td>\n",
              "      <td>...</td>\n",
              "      <td>...</td>\n",
              "    </tr>\n",
              "    <tr>\n",
              "      <th>119</th>\n",
              "      <td>2016</td>\n",
              "      <td>1.089880</td>\n",
              "      <td>72.372990</td>\n",
              "      <td>2.620000e+11</td>\n",
              "      <td>3.560000e+11</td>\n",
              "      <td>8.169527</td>\n",
              "    </tr>\n",
              "    <tr>\n",
              "      <th>120</th>\n",
              "      <td>2017</td>\n",
              "      <td>1.062597</td>\n",
              "      <td>73.372990</td>\n",
              "      <td>2.960000e+11</td>\n",
              "      <td>4.430000e+11</td>\n",
              "      <td>7.167889</td>\n",
              "    </tr>\n",
              "    <tr>\n",
              "      <th>121</th>\n",
              "      <td>2018</td>\n",
              "      <td>1.037323</td>\n",
              "      <td>74.372990</td>\n",
              "      <td>2.960000e+11</td>\n",
              "      <td>4.470000e+11</td>\n",
              "      <td>6.811369</td>\n",
              "    </tr>\n",
              "    <tr>\n",
              "      <th>122</th>\n",
              "      <td>2019</td>\n",
              "      <td>1.038666</td>\n",
              "      <td>74.972890</td>\n",
              "      <td>2.960000e+11</td>\n",
              "      <td>4.530000e+11</td>\n",
              "      <td>4.288968</td>\n",
              "    </tr>\n",
              "    <tr>\n",
              "      <th>123</th>\n",
              "      <td>2020</td>\n",
              "      <td>1.037357</td>\n",
              "      <td>75.146980</td>\n",
              "      <td>2.990000e+11</td>\n",
              "      <td>4.550000e+11</td>\n",
              "      <td>1.956479</td>\n",
              "    </tr>\n",
              "  </tbody>\n",
              "</table>\n",
              "<p>124 rows × 6 columns</p>\n",
              "</div>"
            ],
            "text/plain": [
              "     Year  Population  Literacy rate        export       imports       GDP\n",
              "0    1897    1.000035      24.063592  1.313500e+09  2.249400e+09  3.722743\n",
              "1    1898    1.000835      24.263592  1.382400e+09  2.213300e+09  2.931128\n",
              "2    1899    1.005835      24.463592  1.389400e+09  2.311200e+09  5.994353\n",
              "3    1900    1.004835      24.663592  1.576300e+09  2.438800e+09  7.452950\n",
              "4    1901    1.006835      24.963592  1.691700e+09  2.661100e+09 -2.635770\n",
              "..    ...         ...            ...           ...           ...       ...\n",
              "119  2016    1.089880      72.372990  2.620000e+11  3.560000e+11  8.169527\n",
              "120  2017    1.062597      73.372990  2.960000e+11  4.430000e+11  7.167889\n",
              "121  2018    1.037323      74.372990  2.960000e+11  4.470000e+11  6.811369\n",
              "122  2019    1.038666      74.972890  2.960000e+11  4.530000e+11  4.288968\n",
              "123  2020    1.037357      75.146980  2.990000e+11  4.550000e+11  1.956479\n",
              "\n",
              "[124 rows x 6 columns]"
            ]
          },
          "metadata": {
            "tags": []
          },
          "execution_count": 4
        }
      ]
    },
    {
      "cell_type": "code",
      "metadata": {
        "id": "OOvSzB1XRD2c",
        "colab_type": "code",
        "outputId": "9f3e430f-988f-4864-cc46-b548a90fa0a1",
        "colab": {
          "base_uri": "https://localhost:8080/",
          "height": 122
        }
      },
      "source": [
        "sum1=0\n",
        "for i in gdp['GDP']:\n",
        "  m=int(i)\n",
        "  sum1=sum1+m\n",
        "q=sum1/len(gdp['GDP'])\n",
        "for i in gdp.columns:\n",
        "    gdp[i][gdp[i]<0]=q"
      ],
      "execution_count": 5,
      "outputs": [
        {
          "output_type": "stream",
          "text": [
            "/usr/local/lib/python3.6/dist-packages/ipykernel_launcher.py:7: SettingWithCopyWarning: \n",
            "A value is trying to be set on a copy of a slice from a DataFrame\n",
            "\n",
            "See the caveats in the documentation: https://pandas.pydata.org/pandas-docs/stable/user_guide/indexing.html#returning-a-view-versus-a-copy\n",
            "  import sys\n"
          ],
          "name": "stderr"
        }
      ]
    },
    {
      "cell_type": "code",
      "metadata": {
        "id": "gak782EnVhAI",
        "colab_type": "code",
        "outputId": "8c72a505-fe6c-44d5-d8c9-b5ad8babaa64",
        "colab": {
          "base_uri": "https://localhost:8080/",
          "height": 419
        }
      },
      "source": [
        "gdp"
      ],
      "execution_count": 6,
      "outputs": [
        {
          "output_type": "execute_result",
          "data": {
            "text/html": [
              "<div>\n",
              "<style scoped>\n",
              "    .dataframe tbody tr th:only-of-type {\n",
              "        vertical-align: middle;\n",
              "    }\n",
              "\n",
              "    .dataframe tbody tr th {\n",
              "        vertical-align: top;\n",
              "    }\n",
              "\n",
              "    .dataframe thead th {\n",
              "        text-align: right;\n",
              "    }\n",
              "</style>\n",
              "<table border=\"1\" class=\"dataframe\">\n",
              "  <thead>\n",
              "    <tr style=\"text-align: right;\">\n",
              "      <th></th>\n",
              "      <th>Year</th>\n",
              "      <th>Population</th>\n",
              "      <th>Literacy rate</th>\n",
              "      <th>export</th>\n",
              "      <th>imports</th>\n",
              "      <th>GDP</th>\n",
              "    </tr>\n",
              "  </thead>\n",
              "  <tbody>\n",
              "    <tr>\n",
              "      <th>0</th>\n",
              "      <td>1897</td>\n",
              "      <td>1.000035</td>\n",
              "      <td>24.063592</td>\n",
              "      <td>1.313500e+09</td>\n",
              "      <td>2.249400e+09</td>\n",
              "      <td>3.722743</td>\n",
              "    </tr>\n",
              "    <tr>\n",
              "      <th>1</th>\n",
              "      <td>1898</td>\n",
              "      <td>1.000835</td>\n",
              "      <td>24.263592</td>\n",
              "      <td>1.382400e+09</td>\n",
              "      <td>2.213300e+09</td>\n",
              "      <td>2.931128</td>\n",
              "    </tr>\n",
              "    <tr>\n",
              "      <th>2</th>\n",
              "      <td>1899</td>\n",
              "      <td>1.005835</td>\n",
              "      <td>24.463592</td>\n",
              "      <td>1.389400e+09</td>\n",
              "      <td>2.311200e+09</td>\n",
              "      <td>5.994353</td>\n",
              "    </tr>\n",
              "    <tr>\n",
              "      <th>3</th>\n",
              "      <td>1900</td>\n",
              "      <td>1.004835</td>\n",
              "      <td>24.663592</td>\n",
              "      <td>1.576300e+09</td>\n",
              "      <td>2.438800e+09</td>\n",
              "      <td>7.452950</td>\n",
              "    </tr>\n",
              "    <tr>\n",
              "      <th>4</th>\n",
              "      <td>1901</td>\n",
              "      <td>1.006835</td>\n",
              "      <td>24.963592</td>\n",
              "      <td>1.691700e+09</td>\n",
              "      <td>2.661100e+09</td>\n",
              "      <td>4.443548</td>\n",
              "    </tr>\n",
              "    <tr>\n",
              "      <th>...</th>\n",
              "      <td>...</td>\n",
              "      <td>...</td>\n",
              "      <td>...</td>\n",
              "      <td>...</td>\n",
              "      <td>...</td>\n",
              "      <td>...</td>\n",
              "    </tr>\n",
              "    <tr>\n",
              "      <th>119</th>\n",
              "      <td>2016</td>\n",
              "      <td>1.089880</td>\n",
              "      <td>72.372990</td>\n",
              "      <td>2.620000e+11</td>\n",
              "      <td>3.560000e+11</td>\n",
              "      <td>8.169527</td>\n",
              "    </tr>\n",
              "    <tr>\n",
              "      <th>120</th>\n",
              "      <td>2017</td>\n",
              "      <td>1.062597</td>\n",
              "      <td>73.372990</td>\n",
              "      <td>2.960000e+11</td>\n",
              "      <td>4.430000e+11</td>\n",
              "      <td>7.167889</td>\n",
              "    </tr>\n",
              "    <tr>\n",
              "      <th>121</th>\n",
              "      <td>2018</td>\n",
              "      <td>1.037323</td>\n",
              "      <td>74.372990</td>\n",
              "      <td>2.960000e+11</td>\n",
              "      <td>4.470000e+11</td>\n",
              "      <td>6.811369</td>\n",
              "    </tr>\n",
              "    <tr>\n",
              "      <th>122</th>\n",
              "      <td>2019</td>\n",
              "      <td>1.038666</td>\n",
              "      <td>74.972890</td>\n",
              "      <td>2.960000e+11</td>\n",
              "      <td>4.530000e+11</td>\n",
              "      <td>4.288968</td>\n",
              "    </tr>\n",
              "    <tr>\n",
              "      <th>123</th>\n",
              "      <td>2020</td>\n",
              "      <td>1.037357</td>\n",
              "      <td>75.146980</td>\n",
              "      <td>2.990000e+11</td>\n",
              "      <td>4.550000e+11</td>\n",
              "      <td>1.956479</td>\n",
              "    </tr>\n",
              "  </tbody>\n",
              "</table>\n",
              "<p>124 rows × 6 columns</p>\n",
              "</div>"
            ],
            "text/plain": [
              "     Year  Population  Literacy rate        export       imports       GDP\n",
              "0    1897    1.000035      24.063592  1.313500e+09  2.249400e+09  3.722743\n",
              "1    1898    1.000835      24.263592  1.382400e+09  2.213300e+09  2.931128\n",
              "2    1899    1.005835      24.463592  1.389400e+09  2.311200e+09  5.994353\n",
              "3    1900    1.004835      24.663592  1.576300e+09  2.438800e+09  7.452950\n",
              "4    1901    1.006835      24.963592  1.691700e+09  2.661100e+09  4.443548\n",
              "..    ...         ...            ...           ...           ...       ...\n",
              "119  2016    1.089880      72.372990  2.620000e+11  3.560000e+11  8.169527\n",
              "120  2017    1.062597      73.372990  2.960000e+11  4.430000e+11  7.167889\n",
              "121  2018    1.037323      74.372990  2.960000e+11  4.470000e+11  6.811369\n",
              "122  2019    1.038666      74.972890  2.960000e+11  4.530000e+11  4.288968\n",
              "123  2020    1.037357      75.146980  2.990000e+11  4.550000e+11  1.956479\n",
              "\n",
              "[124 rows x 6 columns]"
            ]
          },
          "metadata": {
            "tags": []
          },
          "execution_count": 6
        }
      ]
    },
    {
      "cell_type": "code",
      "metadata": {
        "id": "_y3yKNs4A5S1",
        "colab_type": "code",
        "outputId": "8255e0ce-da1a-498b-f862-ea894026cd33",
        "colab": {
          "base_uri": "https://localhost:8080/",
          "height": 204
        }
      },
      "source": [
        "gdp.head()"
      ],
      "execution_count": 7,
      "outputs": [
        {
          "output_type": "execute_result",
          "data": {
            "text/html": [
              "<div>\n",
              "<style scoped>\n",
              "    .dataframe tbody tr th:only-of-type {\n",
              "        vertical-align: middle;\n",
              "    }\n",
              "\n",
              "    .dataframe tbody tr th {\n",
              "        vertical-align: top;\n",
              "    }\n",
              "\n",
              "    .dataframe thead th {\n",
              "        text-align: right;\n",
              "    }\n",
              "</style>\n",
              "<table border=\"1\" class=\"dataframe\">\n",
              "  <thead>\n",
              "    <tr style=\"text-align: right;\">\n",
              "      <th></th>\n",
              "      <th>Year</th>\n",
              "      <th>Population</th>\n",
              "      <th>Literacy rate</th>\n",
              "      <th>export</th>\n",
              "      <th>imports</th>\n",
              "      <th>GDP</th>\n",
              "    </tr>\n",
              "  </thead>\n",
              "  <tbody>\n",
              "    <tr>\n",
              "      <th>0</th>\n",
              "      <td>1897</td>\n",
              "      <td>1.000035</td>\n",
              "      <td>24.063592</td>\n",
              "      <td>1.313500e+09</td>\n",
              "      <td>2.249400e+09</td>\n",
              "      <td>3.722743</td>\n",
              "    </tr>\n",
              "    <tr>\n",
              "      <th>1</th>\n",
              "      <td>1898</td>\n",
              "      <td>1.000835</td>\n",
              "      <td>24.263592</td>\n",
              "      <td>1.382400e+09</td>\n",
              "      <td>2.213300e+09</td>\n",
              "      <td>2.931128</td>\n",
              "    </tr>\n",
              "    <tr>\n",
              "      <th>2</th>\n",
              "      <td>1899</td>\n",
              "      <td>1.005835</td>\n",
              "      <td>24.463592</td>\n",
              "      <td>1.389400e+09</td>\n",
              "      <td>2.311200e+09</td>\n",
              "      <td>5.994353</td>\n",
              "    </tr>\n",
              "    <tr>\n",
              "      <th>3</th>\n",
              "      <td>1900</td>\n",
              "      <td>1.004835</td>\n",
              "      <td>24.663592</td>\n",
              "      <td>1.576300e+09</td>\n",
              "      <td>2.438800e+09</td>\n",
              "      <td>7.452950</td>\n",
              "    </tr>\n",
              "    <tr>\n",
              "      <th>4</th>\n",
              "      <td>1901</td>\n",
              "      <td>1.006835</td>\n",
              "      <td>24.963592</td>\n",
              "      <td>1.691700e+09</td>\n",
              "      <td>2.661100e+09</td>\n",
              "      <td>4.443548</td>\n",
              "    </tr>\n",
              "  </tbody>\n",
              "</table>\n",
              "</div>"
            ],
            "text/plain": [
              "   Year  Population  Literacy rate        export       imports       GDP\n",
              "0  1897    1.000035      24.063592  1.313500e+09  2.249400e+09  3.722743\n",
              "1  1898    1.000835      24.263592  1.382400e+09  2.213300e+09  2.931128\n",
              "2  1899    1.005835      24.463592  1.389400e+09  2.311200e+09  5.994353\n",
              "3  1900    1.004835      24.663592  1.576300e+09  2.438800e+09  7.452950\n",
              "4  1901    1.006835      24.963592  1.691700e+09  2.661100e+09  4.443548"
            ]
          },
          "metadata": {
            "tags": []
          },
          "execution_count": 7
        }
      ]
    },
    {
      "cell_type": "code",
      "metadata": {
        "id": "qU2f_Ev3A9zj",
        "colab_type": "code",
        "outputId": "2c49f338-88f7-4d19-c2a7-aa33028c6d09",
        "colab": {
          "base_uri": "https://localhost:8080/",
          "height": 238
        }
      },
      "source": [
        "gdp.info() "
      ],
      "execution_count": 8,
      "outputs": [
        {
          "output_type": "stream",
          "text": [
            "<class 'pandas.core.frame.DataFrame'>\n",
            "RangeIndex: 124 entries, 0 to 123\n",
            "Data columns (total 6 columns):\n",
            " #   Column         Non-Null Count  Dtype  \n",
            "---  ------         --------------  -----  \n",
            " 0   Year           124 non-null    int64  \n",
            " 1   Population     124 non-null    float64\n",
            " 2   Literacy rate  124 non-null    float64\n",
            " 3   export         124 non-null    float64\n",
            " 4   imports        124 non-null    float64\n",
            " 5   GDP            124 non-null    float64\n",
            "dtypes: float64(5), int64(1)\n",
            "memory usage: 5.9 KB\n"
          ],
          "name": "stdout"
        }
      ]
    },
    {
      "cell_type": "code",
      "metadata": {
        "id": "p2kEcLF1BGw1",
        "colab_type": "code",
        "outputId": "ddb6e6ea-c0a2-4b30-b2ef-cb3dab821639",
        "colab": {
          "base_uri": "https://localhost:8080/",
          "height": 204
        }
      },
      "source": [
        "gdp.tail()"
      ],
      "execution_count": 9,
      "outputs": [
        {
          "output_type": "execute_result",
          "data": {
            "text/html": [
              "<div>\n",
              "<style scoped>\n",
              "    .dataframe tbody tr th:only-of-type {\n",
              "        vertical-align: middle;\n",
              "    }\n",
              "\n",
              "    .dataframe tbody tr th {\n",
              "        vertical-align: top;\n",
              "    }\n",
              "\n",
              "    .dataframe thead th {\n",
              "        text-align: right;\n",
              "    }\n",
              "</style>\n",
              "<table border=\"1\" class=\"dataframe\">\n",
              "  <thead>\n",
              "    <tr style=\"text-align: right;\">\n",
              "      <th></th>\n",
              "      <th>Year</th>\n",
              "      <th>Population</th>\n",
              "      <th>Literacy rate</th>\n",
              "      <th>export</th>\n",
              "      <th>imports</th>\n",
              "      <th>GDP</th>\n",
              "    </tr>\n",
              "  </thead>\n",
              "  <tbody>\n",
              "    <tr>\n",
              "      <th>119</th>\n",
              "      <td>2016</td>\n",
              "      <td>1.089880</td>\n",
              "      <td>72.37299</td>\n",
              "      <td>2.620000e+11</td>\n",
              "      <td>3.560000e+11</td>\n",
              "      <td>8.169527</td>\n",
              "    </tr>\n",
              "    <tr>\n",
              "      <th>120</th>\n",
              "      <td>2017</td>\n",
              "      <td>1.062597</td>\n",
              "      <td>73.37299</td>\n",
              "      <td>2.960000e+11</td>\n",
              "      <td>4.430000e+11</td>\n",
              "      <td>7.167889</td>\n",
              "    </tr>\n",
              "    <tr>\n",
              "      <th>121</th>\n",
              "      <td>2018</td>\n",
              "      <td>1.037323</td>\n",
              "      <td>74.37299</td>\n",
              "      <td>2.960000e+11</td>\n",
              "      <td>4.470000e+11</td>\n",
              "      <td>6.811369</td>\n",
              "    </tr>\n",
              "    <tr>\n",
              "      <th>122</th>\n",
              "      <td>2019</td>\n",
              "      <td>1.038666</td>\n",
              "      <td>74.97289</td>\n",
              "      <td>2.960000e+11</td>\n",
              "      <td>4.530000e+11</td>\n",
              "      <td>4.288968</td>\n",
              "    </tr>\n",
              "    <tr>\n",
              "      <th>123</th>\n",
              "      <td>2020</td>\n",
              "      <td>1.037357</td>\n",
              "      <td>75.14698</td>\n",
              "      <td>2.990000e+11</td>\n",
              "      <td>4.550000e+11</td>\n",
              "      <td>1.956479</td>\n",
              "    </tr>\n",
              "  </tbody>\n",
              "</table>\n",
              "</div>"
            ],
            "text/plain": [
              "     Year  Population  Literacy rate        export       imports       GDP\n",
              "119  2016    1.089880       72.37299  2.620000e+11  3.560000e+11  8.169527\n",
              "120  2017    1.062597       73.37299  2.960000e+11  4.430000e+11  7.167889\n",
              "121  2018    1.037323       74.37299  2.960000e+11  4.470000e+11  6.811369\n",
              "122  2019    1.038666       74.97289  2.960000e+11  4.530000e+11  4.288968\n",
              "123  2020    1.037357       75.14698  2.990000e+11  4.550000e+11  1.956479"
            ]
          },
          "metadata": {
            "tags": []
          },
          "execution_count": 9
        }
      ]
    },
    {
      "cell_type": "code",
      "metadata": {
        "id": "_S5N4flLuH6p",
        "colab_type": "code",
        "outputId": "4f7608a5-6bf8-463b-ff9c-0b6723c8119f",
        "colab": {
          "base_uri": "https://localhost:8080/",
          "height": 299
        }
      },
      "source": [
        "plt.scatter(gdp.Year, gdp.GDP\t)\n",
        "plt.xlabel('Year')\n",
        "plt.ylabel('GDP')"
      ],
      "execution_count": 10,
      "outputs": [
        {
          "output_type": "execute_result",
          "data": {
            "text/plain": [
              "Text(0, 0.5, 'GDP')"
            ]
          },
          "metadata": {
            "tags": []
          },
          "execution_count": 10
        },
        {
          "output_type": "display_data",
          "data": {
            "image/png": "[encoded data removed]",
            "text/plain": [
              "<Figure size 432x288 with 1 Axes>"
            ]
          },
          "metadata": {
            "tags": [],
            "needs_background": "light"
          }
        }
      ]
    },
    {
      "cell_type": "code",
      "metadata": {
        "id": "bvhovEEX4RD3",
        "colab_type": "code",
        "outputId": "cadba1c3-770d-4c47-e7b3-3becc134bfdd",
        "colab": {
          "base_uri": "https://localhost:8080/",
          "height": 296
        }
      },
      "source": [
        "plt.scatter(gdp.GDP, gdp.Population\t)\n",
        "plt.xlabel('gdp')\n",
        "plt.ylabel('Population')"
      ],
      "execution_count": 11,
      "outputs": [
        {
          "output_type": "execute_result",
          "data": {
            "text/plain": [
              "Text(0, 0.5, 'Population')"
            ]
          },
          "metadata": {
            "tags": []
          },
          "execution_count": 11
        },
        {
          "output_type": "display_data",
          "data": {
            "image/png": "[encoded data removed]",
            "text/plain": [
              "<Figure size 432x288 with 1 Axes>"
            ]
          },
          "metadata": {
            "tags": [],
            "needs_background": "light"
          }
        }
      ]
    },
    {
      "cell_type": "markdown",
      "metadata": {
        "id": "4vqbINKG32Jc",
        "colab_type": "text"
      },
      "source": [
        "# **Logical Regression Method:**"
      ]
    },
    {
      "cell_type": "code",
      "metadata": {
        "id": "oXwiauMRuW27",
        "colab_type": "code",
        "colab": {}
      },
      "source": [
        "x=gdp[['Year','Population','Literacy rate','export','imports']]\n",
        "y=gdp['GDP']"
      ],
      "execution_count": 0,
      "outputs": []
    },
    {
      "cell_type": "code",
      "metadata": {
        "id": "KoCiBnDz6ygA",
        "colab_type": "code",
        "outputId": "bba67bac-7640-4f92-bb48-16b048045816",
        "colab": {
          "base_uri": "https://localhost:8080/",
          "height": 34
        }
      },
      "source": [
        "x.shape"
      ],
      "execution_count": 48,
      "outputs": [
        {
          "output_type": "execute_result",
          "data": {
            "text/plain": [
              "(124, 5)"
            ]
          },
          "metadata": {
            "tags": []
          },
          "execution_count": 48
        }
      ]
    },
    {
      "cell_type": "code",
      "metadata": {
        "id": "uUzNKkdg61dF",
        "colab_type": "code",
        "outputId": "ff2a6d1f-7dfd-47e3-b3bb-92ec466645e1",
        "colab": {
          "base_uri": "https://localhost:8080/",
          "height": 34
        }
      },
      "source": [
        "y.shape"
      ],
      "execution_count": 49,
      "outputs": [
        {
          "output_type": "execute_result",
          "data": {
            "text/plain": [
              "(124,)"
            ]
          },
          "metadata": {
            "tags": []
          },
          "execution_count": 49
        }
      ]
    },
    {
      "cell_type": "code",
      "metadata": {
        "id": "4xf7WrLp63tF",
        "colab_type": "code",
        "colab": {}
      },
      "source": [
        "x_train,x_test,y_train,y_test=train_test_split(x,y,test_size=0.3,random_state=7)"
      ],
      "execution_count": 0,
      "outputs": []
    },
    {
      "cell_type": "code",
      "metadata": {
        "id": "EbBntnsx7Cyt",
        "colab_type": "code",
        "outputId": "52b1dfb9-3379-4f82-b57c-c70b0ff81bec",
        "colab": {
          "base_uri": "https://localhost:8080/",
          "height": 34
        }
      },
      "source": [
        "print(x_train.shape,y_train.shape)"
      ],
      "execution_count": 51,
      "outputs": [
        {
          "output_type": "stream",
          "text": [
            "(86, 5) (86,)\n"
          ],
          "name": "stdout"
        }
      ]
    },
    {
      "cell_type": "code",
      "metadata": {
        "id": "a5ijwdXn7JQT",
        "colab_type": "code",
        "outputId": "1f557a36-fb03-449e-b11a-320cec6d3b49",
        "colab": {
          "base_uri": "https://localhost:8080/",
          "height": 34
        }
      },
      "source": [
        "print(x_test.shape)"
      ],
      "execution_count": 52,
      "outputs": [
        {
          "output_type": "stream",
          "text": [
            "(38, 5)\n"
          ],
          "name": "stdout"
        }
      ]
    },
    {
      "cell_type": "code",
      "metadata": {
        "id": "M9UK2s6k7LLg",
        "colab_type": "code",
        "outputId": "45e5012e-8080-409a-a23a-0ae511bb9a53",
        "colab": {
          "base_uri": "https://localhost:8080/",
          "height": 34
        }
      },
      "source": [
        "print(y_test.shape)"
      ],
      "execution_count": 53,
      "outputs": [
        {
          "output_type": "stream",
          "text": [
            "(38,)\n"
          ],
          "name": "stdout"
        }
      ]
    },
    {
      "cell_type": "code",
      "metadata": {
        "id": "icmwyR8I7NeH",
        "colab_type": "code",
        "colab": {}
      },
      "source": [
        "model= LinearRegression()"
      ],
      "execution_count": 0,
      "outputs": []
    },
    {
      "cell_type": "code",
      "metadata": {
        "id": "mrI8KE2H7T7Y",
        "colab_type": "code",
        "outputId": "d661313a-d31b-4b27-8bcf-c564c8057564",
        "colab": {
          "base_uri": "https://localhost:8080/",
          "height": 34
        }
      },
      "source": [
        "model.fit(x_train, y_train)"
      ],
      "execution_count": 55,
      "outputs": [
        {
          "output_type": "execute_result",
          "data": {
            "text/plain": [
              "LinearRegression(copy_X=True, fit_intercept=True, n_jobs=None, normalize=False)"
            ]
          },
          "metadata": {
            "tags": []
          },
          "execution_count": 55
        }
      ]
    },
    {
      "cell_type": "code",
      "metadata": {
        "id": "y6_6LrVG7V4F",
        "colab_type": "code",
        "colab": {}
      },
      "source": [
        "prediction=model.predict(x_test)"
      ],
      "execution_count": 0,
      "outputs": []
    },
    {
      "cell_type": "code",
      "metadata": {
        "id": "KZtpUDzXbYV5",
        "colab_type": "code",
        "colab": {
          "base_uri": "https://localhost:8080/",
          "height": 51
        },
        "outputId": "72e33800-243d-4848-ce4d-0413060a588b"
      },
      "source": [
        "y_test=np.array(y_test)\n",
        "predictions=np.array(predictions)\n",
        "errors = np.sqrt(np.mean(np.square(predictions.reshape(-1,1) - y_test.reshape(-1,1) )))\n",
        "print('RMSE:', errors)\n",
        "print('R^2 Score - Coefficient of Determination', model.score(x_test, y_test))"
      ],
      "execution_count": 57,
      "outputs": [
        {
          "output_type": "stream",
          "text": [
            "RMSE: 2.112787828800119\n",
            "R^2 Score - Coefficient of Determination -0.05354441151664079\n"
          ],
          "name": "stdout"
        }
      ]
    },
    {
      "cell_type": "code",
      "metadata": {
        "id": "RS8eGLS67YK3",
        "colab_type": "code",
        "colab": {}
      },
      "source": [
        "gdp1=gdp[gdp['Year'] == 1900]"
      ],
      "execution_count": 0,
      "outputs": []
    },
    {
      "cell_type": "code",
      "metadata": {
        "id": "GzC1VcLo7bld",
        "colab_type": "code",
        "outputId": "bc55a5a4-3986-4ff2-cc77-042d97bb258c",
        "colab": {
          "base_uri": "https://localhost:8080/",
          "height": 80
        }
      },
      "source": [
        "gdp1"
      ],
      "execution_count": 59,
      "outputs": [
        {
          "output_type": "execute_result",
          "data": {
            "text/html": [
              "<div>\n",
              "<style scoped>\n",
              "    .dataframe tbody tr th:only-of-type {\n",
              "        vertical-align: middle;\n",
              "    }\n",
              "\n",
              "    .dataframe tbody tr th {\n",
              "        vertical-align: top;\n",
              "    }\n",
              "\n",
              "    .dataframe thead th {\n",
              "        text-align: right;\n",
              "    }\n",
              "</style>\n",
              "<table border=\"1\" class=\"dataframe\">\n",
              "  <thead>\n",
              "    <tr style=\"text-align: right;\">\n",
              "      <th></th>\n",
              "      <th>Year</th>\n",
              "      <th>Population</th>\n",
              "      <th>Literacy rate</th>\n",
              "      <th>export</th>\n",
              "      <th>imports</th>\n",
              "      <th>GDP</th>\n",
              "    </tr>\n",
              "  </thead>\n",
              "  <tbody>\n",
              "    <tr>\n",
              "      <th>3</th>\n",
              "      <td>1900</td>\n",
              "      <td>1.004835</td>\n",
              "      <td>24.663592</td>\n",
              "      <td>1.576300e+09</td>\n",
              "      <td>2.438800e+09</td>\n",
              "      <td>7.45295</td>\n",
              "    </tr>\n",
              "  </tbody>\n",
              "</table>\n",
              "</div>"
            ],
            "text/plain": [
              "   Year  Population  Literacy rate        export       imports      GDP\n",
              "3  1900    1.004835      24.663592  1.576300e+09  2.438800e+09  7.45295"
            ]
          },
          "metadata": {
            "tags": []
          },
          "execution_count": 59
        }
      ]
    },
    {
      "cell_type": "code",
      "metadata": {
        "id": "tujMxIux7c0G",
        "colab_type": "code",
        "outputId": "52bed1d5-cbf4-434c-fdec-e66452828571",
        "colab": {
          "base_uri": "https://localhost:8080/",
          "height": 51
        }
      },
      "source": [
        "gdp1['GDP']"
      ],
      "execution_count": 60,
      "outputs": [
        {
          "output_type": "execute_result",
          "data": {
            "text/plain": [
              "3    7.45295\n",
              "Name: GDP, dtype: float64"
            ]
          },
          "metadata": {
            "tags": []
          },
          "execution_count": 60
        }
      ]
    },
    {
      "cell_type": "code",
      "metadata": {
        "id": "-CvmhUMB_6fA",
        "colab_type": "code",
        "outputId": "91fdc065-e655-44ac-c11e-e9523fe6368f",
        "colab": {
          "base_uri": "https://localhost:8080/",
          "height": 136
        }
      },
      "source": [
        "z=np.array(y_test)\n",
        "print(z)"
      ],
      "execution_count": 61,
      "outputs": [
        {
          "output_type": "stream",
          "text": [
            "[8.06073257 4.04982085 7.54952225 4.44354839 4.82396626 7.2888929\n",
            " 3.80397532 3.96535563 4.44354839 5.45635895 6.65892407 5.53345456\n",
            " 3.47573324 5.99435326 3.38792918 7.92343062 2.93112774 1.18533626\n",
            " 6.81136933 3.96535563 7.92293661 1.95647892 5.94734333 1.18533626\n",
            " 7.92293661 1.66310364 7.86038148 6.00620362 5.53345456 3.29552113\n",
            " 8.4975847  5.71253209 3.29552113 3.82073786 7.2888929  3.29552113\n",
            " 7.16788886 4.44354839]\n"
          ],
          "name": "stdout"
        }
      ]
    },
    {
      "cell_type": "code",
      "metadata": {
        "id": "1k7U839c7iKJ",
        "colab_type": "code",
        "outputId": "c64d7aca-ecf7-4099-ddc9-213987e9610d",
        "colab": {
          "base_uri": "https://localhost:8080/",
          "height": 153
        }
      },
      "source": [
        "prediction"
      ],
      "execution_count": 62,
      "outputs": [
        {
          "output_type": "execute_result",
          "data": {
            "text/plain": [
              "array([6.168724  , 5.07653706, 5.36740833, 5.313526  , 5.42302951,\n",
              "       5.51963535, 5.45045169, 4.96519827, 5.58049495, 6.3317029 ,\n",
              "       5.63438964, 4.34683937, 5.38186453, 5.41044138, 5.44769344,\n",
              "       6.07500166, 5.4457052 , 5.79303038, 6.56384042, 5.34422073,\n",
              "       5.96023106, 6.60361716, 4.30932892, 5.89271477, 5.47053307,\n",
              "       5.73669372, 5.87028495, 5.58056794, 5.96450987, 4.94909071,\n",
              "       6.22021753, 5.27104023, 5.8806417 , 5.14668887, 5.2124369 ,\n",
              "       5.79219483, 6.54905559, 5.8209806 ])"
            ]
          },
          "metadata": {
            "tags": []
          },
          "execution_count": 62
        }
      ]
    },
    {
      "cell_type": "code",
      "metadata": {
        "id": "WlEUKAED-_Hv",
        "colab_type": "code",
        "outputId": "1398d059-784d-465c-e8e5-491d17e4c083",
        "colab": {
          "base_uri": "https://localhost:8080/",
          "height": 360
        }
      },
      "source": [
        "plt.figure(figsize=(15,5), dpi=80, facecolor='w', edgecolor='k')\n",
        "ax = plt.gca()  \n",
        "plt.plot(z, color = 'red', label = 'real GDP')\n",
        "plt.plot(prediction, color = 'blue', label = 'Predicted GDP')\n",
        "plt.title('GDP Prediction using Linear Regression Method', fontsize=20)\n",
        "plt.ylabel('GDP', fontsize=20)\n",
        "plt.legend(loc=2, prop={'size': 10})\n",
        "plt.show()"
      ],
      "execution_count": 64,
      "outputs": [
        {
          "output_type": "display_data",
          "data": {
            "image/png": "[encoded data removed]",
            "text/plain": [
              "<Figure size 1200x400 with 1 Axes>"
            ]
          },
          "metadata": {
            "tags": []
          }
        }
      ]
    },
    {
      "cell_type": "code",
      "metadata": {
        "id": "BDskpjfIdc_0",
        "colab_type": "code",
        "colab": {
          "base_uri": "https://localhost:8080/",
          "height": 34
        },
        "outputId": "e3d5e50c-77a3-45ba-b1fe-750fc6b3f641"
      },
      "source": [
        "from sklearn.metrics.regression import r2_score\n",
        "r2_score(y_test, prediction)"
      ],
      "execution_count": 65,
      "outputs": [
        {
          "output_type": "execute_result",
          "data": {
            "text/plain": [
              "-0.0535444115166408"
            ]
          },
          "metadata": {
            "tags": []
          },
          "execution_count": 65
        }
      ]
    },
    {
      "cell_type": "markdown",
      "metadata": {
        "id": "TmDIp2j8MMGy",
        "colab_type": "text"
      },
      "source": [
        "# **Random Forest Method:**"
      ]
    },
    {
      "cell_type": "code",
      "metadata": {
        "id": "EGWo2RoLA3bX",
        "colab_type": "code",
        "colab": {}
      },
      "source": [
        "def dateparse (time_in_secs):    \n",
        "    return pytz.utc.localize(datetime.datetime.fromtimestamp(float(time_in_secs)))"
      ],
      "execution_count": 0,
      "outputs": []
    },
    {
      "cell_type": "code",
      "metadata": {
        "id": "0GsuoMJ7wPqb",
        "colab_type": "code",
        "colab": {}
      },
      "source": [
        "x=gdp[['Year','Population','Literacy rate','export','imports']]\n",
        "y=gdp['GDP']"
      ],
      "execution_count": 0,
      "outputs": []
    },
    {
      "cell_type": "code",
      "metadata": {
        "id": "UoXuhlNFl9Gz",
        "colab_type": "code",
        "colab": {}
      },
      "source": [
        "x_train,x_test,y_train,y_test=train_test_split(x,y,test_size=0.3,random_state=7)"
      ],
      "execution_count": 0,
      "outputs": []
    },
    {
      "cell_type": "code",
      "metadata": {
        "id": "xzOdjrHwshVb",
        "colab_type": "code",
        "outputId": "2ef58cfc-ef47-475d-c713-fd1749154e50",
        "colab": {
          "base_uri": "https://localhost:8080/",
          "height": 51
        }
      },
      "source": [
        "rf = RandomForestRegressor(n_estimators=10000, random_state = None, bootstrap=True, ccp_alpha=0.0, max_depth=None, max_features='auto', verbose=0)\n",
        "rf.fit(x_train, np.ravel(y_train))\n",
        "predictions = rf.predict(x_test)\n",
        "y_test=np.array(y_test)\n",
        "predictions=np.array(predictions)\n",
        "errors = np.sqrt(np.mean(np.square(predictions.reshape(-1,1) - y_test.reshape(-1,1) )))\n",
        "print('RMSE:', errors)\n",
        "print('R^2 Score - Coefficient of Determination', rf.score(x_test, y_test))"
      ],
      "execution_count": 69,
      "outputs": [
        {
          "output_type": "stream",
          "text": [
            "RMSE: 2.4083298324721274\n",
            "R^2 Score - Coefficient of Determination -0.36890404197095483\n"
          ],
          "name": "stdout"
        }
      ]
    },
    {
      "cell_type": "code",
      "metadata": {
        "id": "Mtkt8fmezHcU",
        "colab_type": "code",
        "outputId": "dbcf3424-ffff-462c-bdb4-b596b0172e78",
        "colab": {
          "base_uri": "https://localhost:8080/",
          "height": 142
        }
      },
      "source": [
        "gdp_Result = pd.DataFrame(y_test, index=x_test.index, columns=[\"Original\"])\n",
        "gdp_Result['Predicted'] = predictions\n",
        "gdp_Result.tail(3)"
      ],
      "execution_count": 72,
      "outputs": [
        {
          "output_type": "execute_result",
          "data": {
            "text/html": [
              "<div>\n",
              "<style scoped>\n",
              "    .dataframe tbody tr th:only-of-type {\n",
              "        vertical-align: middle;\n",
              "    }\n",
              "\n",
              "    .dataframe tbody tr th {\n",
              "        vertical-align: top;\n",
              "    }\n",
              "\n",
              "    .dataframe thead th {\n",
              "        text-align: right;\n",
              "    }\n",
              "</style>\n",
              "<table border=\"1\" class=\"dataframe\">\n",
              "  <thead>\n",
              "    <tr style=\"text-align: right;\">\n",
              "      <th></th>\n",
              "      <th>Original</th>\n",
              "      <th>Predicted</th>\n",
              "    </tr>\n",
              "  </thead>\n",
              "  <tbody>\n",
              "    <tr>\n",
              "      <th>12</th>\n",
              "      <td>3.295521</td>\n",
              "      <td>4.597947</td>\n",
              "    </tr>\n",
              "    <tr>\n",
              "      <th>120</th>\n",
              "      <td>7.167889</td>\n",
              "      <td>6.194001</td>\n",
              "    </tr>\n",
              "    <tr>\n",
              "      <th>11</th>\n",
              "      <td>4.443548</td>\n",
              "      <td>4.984827</td>\n",
              "    </tr>\n",
              "  </tbody>\n",
              "</table>\n",
              "</div>"
            ],
            "text/plain": [
              "     Original  Predicted\n",
              "12   3.295521   4.597947\n",
              "120  7.167889   6.194001\n",
              "11   4.443548   4.984827"
            ]
          },
          "metadata": {
            "tags": []
          },
          "execution_count": 72
        }
      ]
    },
    {
      "cell_type": "code",
      "metadata": {
        "id": "6JFq0wyX4Tqb",
        "colab_type": "code",
        "outputId": "719f1bd5-77ba-46af-fb5d-e93009528432",
        "colab": {
          "base_uri": "https://localhost:8080/",
          "height": 255
        }
      },
      "source": [
        "m=np.array(gdp_Result['Original'])\n",
        "n=np.array(gdp_Result['Predicted'])\n",
        "print(m)\n",
        "print(n)"
      ],
      "execution_count": 75,
      "outputs": [
        {
          "output_type": "stream",
          "text": [
            "[8.06073257 4.04982085 7.54952225 4.44354839 4.82396626 7.2888929\n",
            " 3.80397532 3.96535563 4.44354839 5.45635895 6.65892407 5.53345456\n",
            " 3.47573324 5.99435326 3.38792918 7.92343062 2.93112774 1.18533626\n",
            " 6.81136933 3.96535563 7.92293661 1.95647892 5.94734333 1.18533626\n",
            " 7.92293661 1.66310364 7.86038148 6.00620362 5.53345456 3.29552113\n",
            " 8.4975847  5.71253209 3.29552113 3.82073786 7.2888929  3.29552113\n",
            " 7.16788886 4.44354839]\n",
            "[6.74112201 6.66441318 6.79417747 5.75968151 5.16795261 4.74289073\n",
            " 6.07686272 5.47870234 6.01946684 5.81415223 5.83983703 3.89795367\n",
            " 4.01631997 5.62947226 6.51716104 6.05319669 5.19796908 7.12385241\n",
            " 5.44690856 5.60080994 5.24625215 5.44820853 4.55197794 7.15810071\n",
            " 6.45880687 7.84288482 4.48007628 5.08393536 3.71618298 4.96579796\n",
            " 6.4406471  5.98229051 4.58563403 5.33420238 5.29525945 4.5979468\n",
            " 6.19400143 4.98482674]\n"
          ],
          "name": "stdout"
        }
      ]
    },
    {
      "cell_type": "code",
      "metadata": {
        "id": "RSl9uyK61H05",
        "colab_type": "code",
        "outputId": "30682d4f-48bd-4da9-e2be-1af1987aaaee",
        "colab": {
          "base_uri": "https://localhost:8080/",
          "height": 360
        }
      },
      "source": [
        "plt.figure(figsize=(15,5), dpi=80, facecolor='w', edgecolor='k')\n",
        "ax = plt.gca()  \n",
        "plt.plot(m, color = 'red', label = 'Real gdp')\n",
        "plt.plot(n, color = 'blue', label = 'Predicted gdp')\n",
        "plt.title('GDP Prediction using Random Forest Method', fontsize=20)\n",
        "plt.ylabel('GDP', fontsize=20)\n",
        "plt.legend(loc=2, prop={'size': 10})\n",
        "plt.show()"
      ],
      "execution_count": 76,
      "outputs": [
        {
          "output_type": "display_data",
          "data": {
            "image/png": "[encoded data removed]",
            "text/plain": [
              "<Figure size 1200x400 with 1 Axes>"
            ]
          },
          "metadata": {
            "tags": []
          }
        }
      ]
    },
    {
      "cell_type": "code",
      "metadata": {
        "id": "euGX0DCKd2KB",
        "colab_type": "code",
        "colab": {
          "base_uri": "https://localhost:8080/",
          "height": 34
        },
        "outputId": "e01ebec1-0146-449d-a991-00a67458f9a8"
      },
      "source": [
        "from sklearn.metrics.regression import r2_score\n",
        "r2_score(y_test, predictions)"
      ],
      "execution_count": 77,
      "outputs": [
        {
          "output_type": "execute_result",
          "data": {
            "text/plain": [
              "-0.36890404197095483"
            ]
          },
          "metadata": {
            "tags": []
          },
          "execution_count": 77
        }
      ]
    },
    {
      "cell_type": "markdown",
      "metadata": {
        "id": "4Q74-vAxV45u",
        "colab_type": "text"
      },
      "source": [
        "# **SVM(Support Vector Machine) Method:**\n"
      ]
    },
    {
      "cell_type": "code",
      "metadata": {
        "id": "v32HYt2BWC3b",
        "colab_type": "code",
        "colab": {}
      },
      "source": [
        "x=gdp[['Year','Population','Literacy rate','export','imports']]\n",
        "y=gdp['GDP']"
      ],
      "execution_count": 0,
      "outputs": []
    },
    {
      "cell_type": "code",
      "metadata": {
        "id": "S_oYvy8RWPdb",
        "colab_type": "code",
        "colab": {}
      },
      "source": [
        "x_train,x_test,y_train,y_test=train_test_split(x,y,test_size=0.3,random_state=7)"
      ],
      "execution_count": 0,
      "outputs": []
    },
    {
      "cell_type": "code",
      "metadata": {
        "id": "Cm9xEtj2WTA-",
        "colab_type": "code",
        "colab": {
          "base_uri": "https://localhost:8080/",
          "height": 51
        },
        "outputId": "c919aedf-af24-42e3-ac0c-5aaa68f71da8"
      },
      "source": [
        "from sklearn.svm import SVR\n",
        "regressor = SVR()\n",
        "regressor.fit(x_train, y_train)\n",
        "pred = regressor.predict(x_test)\n",
        "y_test=np.array(y_test)\n",
        "pred=np.array(pred)\n",
        "errors = np.sqrt(np.mean(np.square(pred.reshape(-1,1) - y_test.reshape(-1,1) )))\n",
        "print('RMSE:', errors)\n",
        "print('R^2 Score - Coefficient of Determination', regressor.score(x_test, y_test))"
      ],
      "execution_count": 80,
      "outputs": [
        {
          "output_type": "stream",
          "text": [
            "RMSE: 1.9442202212384223\n",
            "R^2 Score - Coefficient of Determination 0.10786210606345782\n"
          ],
          "name": "stdout"
        }
      ]
    },
    {
      "cell_type": "code",
      "metadata": {
        "id": "FeHNY5bNbniT",
        "colab_type": "code",
        "colab": {
          "base_uri": "https://localhost:8080/",
          "height": 136
        },
        "outputId": "034b7a7a-c87d-44e9-9364-ec17ea65dff4"
      },
      "source": [
        "z=np.array(y_test)\n",
        "print(z)"
      ],
      "execution_count": 82,
      "outputs": [
        {
          "output_type": "stream",
          "text": [
            "[8.06073257 4.04982085 7.54952225 4.44354839 4.82396626 7.2888929\n",
            " 3.80397532 3.96535563 4.44354839 5.45635895 6.65892407 5.53345456\n",
            " 3.47573324 5.99435326 3.38792918 7.92343062 2.93112774 1.18533626\n",
            " 6.81136933 3.96535563 7.92293661 1.95647892 5.94734333 1.18533626\n",
            " 7.92293661 1.66310364 7.86038148 6.00620362 5.53345456 3.29552113\n",
            " 8.4975847  5.71253209 3.29552113 3.82073786 7.2888929  3.29552113\n",
            " 7.16788886 4.44354839]\n"
          ],
          "name": "stdout"
        }
      ]
    },
    {
      "cell_type": "code",
      "metadata": {
        "id": "0ZS_VuZsby5C",
        "colab_type": "code",
        "colab": {
          "base_uri": "https://localhost:8080/",
          "height": 153
        },
        "outputId": "e3756b98-b3ab-430f-8fe2-8c1d615bbd1b"
      },
      "source": [
        "pred"
      ],
      "execution_count": 83,
      "outputs": [
        {
          "output_type": "execute_result",
          "data": {
            "text/plain": [
              "array([6.8080554 , 5.4885557 , 5.4618399 , 5.34390541, 5.54271441,\n",
              "       5.36824552, 5.54166497, 5.21567081, 5.31878095, 6.16051622,\n",
              "       5.40888264, 5.07208795, 5.36824552, 5.31758588, 5.31775458,\n",
              "       6.34948729, 5.31720935, 5.31986173, 6.4946601 , 5.36529598,\n",
              "       5.92134961, 6.42057281, 5.08712792, 5.47286466, 5.7030006 ,\n",
              "       5.33051111, 5.7030006 , 5.36457346, 5.40367044, 5.31986173,\n",
              "       7.44249553, 5.33591779, 5.4644343 , 5.27625449, 5.29698375,\n",
              "       5.31642209, 6.5292023 , 5.31721649])"
            ]
          },
          "metadata": {
            "tags": []
          },
          "execution_count": 83
        }
      ]
    },
    {
      "cell_type": "code",
      "metadata": {
        "id": "hWsEopzGb0Ua",
        "colab_type": "code",
        "colab": {
          "base_uri": "https://localhost:8080/",
          "height": 360
        },
        "outputId": "57c8aca3-4e12-4edc-ff70-cf067e26e870"
      },
      "source": [
        "plt.figure(figsize=(15,5), dpi=80, facecolor='w', edgecolor='k')\n",
        "ax = plt.gca()  \n",
        "plt.plot(z, color = 'red', label = 'Real gdp')\n",
        "plt.plot(pred, color = 'blue', label = 'Predicted gdp')\n",
        "plt.title('GDP Prediction using SVM Method', fontsize=20)\n",
        "plt.ylabel('GDP', fontsize=20)\n",
        "plt.legend(loc=2, prop={'size': 10})\n",
        "plt.show()"
      ],
      "execution_count": 84,
      "outputs": [
        {
          "output_type": "display_data",
          "data": {
            "image/png": "[encoded data removed]",
            "text/plain": [
              "<Figure size 1200x400 with 1 Axes>"
            ]
          },
          "metadata": {
            "tags": []
          }
        }
      ]
    },
    {
      "cell_type": "code",
      "metadata": {
        "id": "5HxZnI-scAQX",
        "colab_type": "code",
        "colab": {
          "base_uri": "https://localhost:8080/",
          "height": 34
        },
        "outputId": "087c20cf-25c8-4101-9af7-691065a15a38"
      },
      "source": [
        "from sklearn.metrics.regression import r2_score\n",
        "r2_score(y_test, pred)"
      ],
      "execution_count": 85,
      "outputs": [
        {
          "output_type": "execute_result",
          "data": {
            "text/plain": [
              "0.10786210606345781"
            ]
          },
          "metadata": {
            "tags": []
          },
          "execution_count": 85
        }
      ]
    },
    {
      "cell_type": "code",
      "metadata": {
        "id": "hUljgwJteBjO",
        "colab_type": "code",
        "colab": {}
      },
      "source": [
        ""
      ],
      "execution_count": 0,
      "outputs": []
    }
  ]
}